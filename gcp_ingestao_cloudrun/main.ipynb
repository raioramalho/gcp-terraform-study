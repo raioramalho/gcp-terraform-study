{
 "cells": [
  {
   "cell_type": "code",
   "execution_count": 22,
   "id": "c8402db3",
   "metadata": {},
   "outputs": [],
   "source": [
    "from fastapi import FastAPI\n",
    "from sklearn.linear_model import LinearRegression\n",
    "from sklearn.model_selection import train_test_split\n",
    "from sklearn.metrics import mean_squared_error\n",
    "import joblib\n",
    "import pandas as pd"
   ]
  },
  {
   "cell_type": "code",
   "execution_count": 23,
   "id": "7d321b8b",
   "metadata": {},
   "outputs": [],
   "source": [
    "df = pd.read_csv(\"data.csv\")\n",
    "df[\"preco\"] = df[\"preco\"].fillna(0).astype(float)\n",
    "df.to_csv(\"processed.csv\", index=False)"
   ]
  },
  {
   "cell_type": "code",
   "execution_count": 24,
   "id": "21b57d0e",
   "metadata": {},
   "outputs": [
    {
     "name": "stdout",
     "output_type": "stream",
     "text": [
      "Erro médio: 0.2273392882564289\n",
      "{'prediction': np.float64(0.3269147859876306)}\n"
     ]
    }
   ],
   "source": [
    "\n",
    "X = df[[\"idade\", \"preco\"]]\n",
    "y = df[\"comprou\"]\n",
    "\n",
    "X_train, X_test, y_train, y_test = train_test_split(X, y)\n",
    "\n",
    "model = LinearRegression()\n",
    "model.fit(X_train, y_train)\n",
    "\n",
    "preds = model.predict(X_test)\n",
    "print(\"Erro médio:\", mean_squared_error(y_test, preds))\n",
    "joblib.dump(model, \"modelo.joblib\")\n",
    "model = joblib.load(\"modelo.joblib\")\n",
    "\n",
    "# Criar um df\n",
    "teste = pd.DataFrame([[28, 14500]], columns=[\"idade\", \"preco\"])\n",
    "\n",
    "pred = model.predict(teste[[\"idade\", \"preco\"]])\n",
    "result = {\"prediction\": pred[0]}\n",
    "print(result)"
   ]
  }
 ],
 "metadata": {
  "kernelspec": {
   "display_name": "Python 3",
   "language": "python",
   "name": "python3"
  },
  "language_info": {
   "codemirror_mode": {
    "name": "ipython",
    "version": 3
   },
   "file_extension": ".py",
   "mimetype": "text/x-python",
   "name": "python",
   "nbconvert_exporter": "python",
   "pygments_lexer": "ipython3",
   "version": "3.12.0"
  }
 },
 "nbformat": 4,
 "nbformat_minor": 5
}
